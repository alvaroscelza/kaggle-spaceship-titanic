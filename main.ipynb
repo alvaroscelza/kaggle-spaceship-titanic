{
 "cells": [
  {
   "metadata": {},
   "cell_type": "markdown",
   "source": "# Step 1: Load the Data",
   "id": "c58d6f93b6e692a2"
  },
  {
   "cell_type": "code",
   "id": "initial_id",
   "metadata": {
    "collapsed": true,
    "ExecuteTime": {
     "end_time": "2024-08-08T01:15:24.412475Z",
     "start_time": "2024-08-08T01:15:24.383535Z"
    }
   },
   "source": [
    "import pandas as pd\n",
    "\n",
    "train = pd.read_csv('data/train.csv')\n",
    "test = pd.read_csv('data/test.csv')"
   ],
   "outputs": [],
   "execution_count": 7
  },
  {
   "metadata": {},
   "cell_type": "markdown",
   "source": "# Step 2: Explore the Data",
   "id": "d95fd623d6cbd8a1"
  },
  {
   "metadata": {
    "ExecuteTime": {
     "end_time": "2024-08-08T01:15:24.437437Z",
     "start_time": "2024-08-08T01:15:24.413480Z"
    }
   },
   "cell_type": "code",
   "source": [
    "print(train.shape, test.shape)\n",
    "print('-'*50)\n",
    "print(train.head())\n",
    "print('-'*50)\n",
    "print(train.describe())\n",
    "print('-'*50)\n",
    "print(train.dtypes)\n",
    "print('-'*50)\n",
    "print('Checking for missing values:')\n",
    "print(train.isnull().sum())\n",
    "print('-'*50)\n",
    "print('Checking for duplicates:')\n",
    "print(train.duplicated().sum())"
   ],
   "id": "c177ddd1f61b6257",
   "outputs": [
    {
     "name": "stdout",
     "output_type": "stream",
     "text": [
      "(8693, 14) (4277, 13)\n",
      "--------------------------------------------------\n",
      "  PassengerId HomePlanet CryoSleep  Cabin  Destination   Age    VIP  \\\n",
      "0     0001_01     Europa     False  B/0/P  TRAPPIST-1e  39.0  False   \n",
      "1     0002_01      Earth     False  F/0/S  TRAPPIST-1e  24.0  False   \n",
      "2     0003_01     Europa     False  A/0/S  TRAPPIST-1e  58.0   True   \n",
      "3     0003_02     Europa     False  A/0/S  TRAPPIST-1e  33.0  False   \n",
      "4     0004_01      Earth     False  F/1/S  TRAPPIST-1e  16.0  False   \n",
      "\n",
      "   RoomService  FoodCourt  ShoppingMall     Spa  VRDeck               Name  \\\n",
      "0          0.0        0.0           0.0     0.0     0.0    Maham Ofracculy   \n",
      "1        109.0        9.0          25.0   549.0    44.0       Juanna Vines   \n",
      "2         43.0     3576.0           0.0  6715.0    49.0      Altark Susent   \n",
      "3          0.0     1283.0         371.0  3329.0   193.0       Solam Susent   \n",
      "4        303.0       70.0         151.0   565.0     2.0  Willy Santantines   \n",
      "\n",
      "   Transported  \n",
      "0        False  \n",
      "1         True  \n",
      "2        False  \n",
      "3        False  \n",
      "4         True  \n",
      "--------------------------------------------------\n",
      "               Age   RoomService     FoodCourt  ShoppingMall           Spa  \\\n",
      "count  8514.000000   8512.000000   8510.000000   8485.000000   8510.000000   \n",
      "mean     28.827930    224.687617    458.077203    173.729169    311.138778   \n",
      "std      14.489021    666.717663   1611.489240    604.696458   1136.705535   \n",
      "min       0.000000      0.000000      0.000000      0.000000      0.000000   \n",
      "25%      19.000000      0.000000      0.000000      0.000000      0.000000   \n",
      "50%      27.000000      0.000000      0.000000      0.000000      0.000000   \n",
      "75%      38.000000     47.000000     76.000000     27.000000     59.000000   \n",
      "max      79.000000  14327.000000  29813.000000  23492.000000  22408.000000   \n",
      "\n",
      "             VRDeck  \n",
      "count   8505.000000  \n",
      "mean     304.854791  \n",
      "std     1145.717189  \n",
      "min        0.000000  \n",
      "25%        0.000000  \n",
      "50%        0.000000  \n",
      "75%       46.000000  \n",
      "max    24133.000000  \n",
      "--------------------------------------------------\n",
      "PassengerId      object\n",
      "HomePlanet       object\n",
      "CryoSleep        object\n",
      "Cabin            object\n",
      "Destination      object\n",
      "Age             float64\n",
      "VIP              object\n",
      "RoomService     float64\n",
      "FoodCourt       float64\n",
      "ShoppingMall    float64\n",
      "Spa             float64\n",
      "VRDeck          float64\n",
      "Name             object\n",
      "Transported        bool\n",
      "dtype: object\n",
      "--------------------------------------------------\n",
      "Checking for missing values:\n",
      "PassengerId       0\n",
      "HomePlanet      201\n",
      "CryoSleep       217\n",
      "Cabin           199\n",
      "Destination     182\n",
      "Age             179\n",
      "VIP             203\n",
      "RoomService     181\n",
      "FoodCourt       183\n",
      "ShoppingMall    208\n",
      "Spa             183\n",
      "VRDeck          188\n",
      "Name            200\n",
      "Transported       0\n",
      "dtype: int64\n",
      "--------------------------------------------------\n",
      "Checking for duplicates:\n",
      "0\n"
     ]
    }
   ],
   "execution_count": 8
  },
  {
   "metadata": {},
   "cell_type": "markdown",
   "source": "# Step 3: Preprocess the Data",
   "id": "13d9502bba8d5169"
  },
  {
   "metadata": {},
   "cell_type": "markdown",
   "source": "## Separate training features from target",
   "id": "a69738a15d631836"
  },
  {
   "metadata": {
    "ExecuteTime": {
     "end_time": "2024-08-08T01:15:24.454368Z",
     "start_time": "2024-08-08T01:15:24.438443Z"
    }
   },
   "cell_type": "code",
   "source": [
    "X_train = train.drop('Transported', axis=1)\n",
    "y_train = train['Transported']"
   ],
   "id": "8c05d7a56776f195",
   "outputs": [],
   "execution_count": 9
  },
  {
   "metadata": {},
   "cell_type": "markdown",
   "source": [
    "## Feature Engineering\n",
    "Combine train and test datasets to ensure all possible features are present when training model."
   ],
   "id": "abc53a47d143832d"
  },
  {
   "metadata": {
    "ExecuteTime": {
     "end_time": "2024-08-08T01:15:24.468780Z",
     "start_time": "2024-08-08T01:15:24.455385Z"
    }
   },
   "cell_type": "code",
   "source": "combined = pd.concat([X_train, test], keys=['train', 'test'])",
   "id": "80e7f48bda3a503c",
   "outputs": [],
   "execution_count": 10
  },
  {
   "metadata": {},
   "cell_type": "markdown",
   "source": [
    "### Split columns with multiple information\n",
    "Then drop the original columns as they are no longer needed."
   ],
   "id": "b3647728c74bbf59"
  },
  {
   "metadata": {
    "ExecuteTime": {
     "end_time": "2024-08-08T01:15:24.491756Z",
     "start_time": "2024-08-08T01:15:24.469786Z"
    }
   },
   "cell_type": "code",
   "source": [
    "combined[['Group', 'NumberInGroup']] = combined['PassengerId'].str.split('_', expand=True)\n",
    "combined[['Deck', 'Num', 'Side']] = combined['Cabin'].str.split('/', expand=True)\n",
    "combined.drop(columns=['PassengerId'], inplace=True)\n",
    "combined.drop(columns=['Cabin'], inplace=True)"
   ],
   "id": "6ac4a162031b81d0",
   "outputs": [],
   "execution_count": 11
  },
  {
   "metadata": {},
   "cell_type": "markdown",
   "source": [
    "### Drop likely useless columns\n",
    "I also tried removing the Name column, but it reduced the accuracy, I believe that same surnames have high chances of the sharing the same target result since they are likely family and had high chances of being together at the moment of the accident."
   ],
   "id": "bddb9fef7b4dc484"
  },
  {
   "metadata": {
    "ExecuteTime": {
     "end_time": "2024-08-08T01:15:24.497346Z",
     "start_time": "2024-08-08T01:15:24.492763Z"
    }
   },
   "cell_type": "code",
   "source": "combined.drop(columns=['HomePlanet', 'Destination', 'Age', 'VIP'], inplace=True)",
   "id": "83692d99c9e2929a",
   "outputs": [],
   "execution_count": 12
  },
  {
   "metadata": {},
   "cell_type": "markdown",
   "source": "### Handle Categorical Columns",
   "id": "65eac34d4bbc82d3"
  },
  {
   "metadata": {
    "ExecuteTime": {
     "end_time": "2024-08-08T01:15:24.745472Z",
     "start_time": "2024-08-08T01:15:24.497346Z"
    }
   },
   "cell_type": "code",
   "source": [
    "combined = pd.get_dummies(combined)\n",
    "\n",
    "print(combined.head())"
   ],
   "id": "ec450dff82299001",
   "outputs": [
    {
     "name": "stdout",
     "output_type": "stream",
     "text": [
      "         RoomService  FoodCourt  ShoppingMall     Spa  VRDeck  \\\n",
      "train 0          0.0        0.0           0.0     0.0     0.0   \n",
      "      1        109.0        9.0          25.0   549.0    44.0   \n",
      "      2         43.0     3576.0           0.0  6715.0    49.0   \n",
      "      3          0.0     1283.0         371.0  3329.0   193.0   \n",
      "      4        303.0       70.0         151.0   565.0     2.0   \n",
      "\n",
      "         CryoSleep_False  CryoSleep_True  Name_Aard Backo  Name_Aard Curle  \\\n",
      "train 0             True           False            False            False   \n",
      "      1             True           False            False            False   \n",
      "      2             True           False            False            False   \n",
      "      3             True           False            False            False   \n",
      "      4             True           False            False            False   \n",
      "\n",
      "         Name_Aard Kraie  ...  Num_992  Num_993  Num_994  Num_995  Num_996  \\\n",
      "train 0            False  ...    False    False    False    False    False   \n",
      "      1            False  ...    False    False    False    False    False   \n",
      "      2            False  ...    False    False    False    False    False   \n",
      "      3            False  ...    False    False    False    False    False   \n",
      "      4            False  ...    False    False    False    False    False   \n",
      "\n",
      "         Num_997  Num_998  Num_999  Side_P  Side_S  \n",
      "train 0    False    False    False    True   False  \n",
      "      1    False    False    False   False    True  \n",
      "      2    False    False    False   False    True  \n",
      "      3    False    False    False   False    True  \n",
      "      4    False    False    False   False    True  \n",
      "\n",
      "[5 rows x 23828 columns]\n"
     ]
    }
   ],
   "execution_count": 13
  },
  {
   "metadata": {},
   "cell_type": "markdown",
   "source": "### Split combined dataset back into train and test sets",
   "id": "497fcdf8cfbc839e"
  },
  {
   "metadata": {
    "ExecuteTime": {
     "end_time": "2024-08-08T01:15:24.761050Z",
     "start_time": "2024-08-08T01:15:24.746481Z"
    }
   },
   "cell_type": "code",
   "source": [
    "X_train = combined.xs('train')\n",
    "X_test = combined.xs('test')"
   ],
   "id": "4ca4f56fd52c377e",
   "outputs": [],
   "execution_count": 14
  },
  {
   "metadata": {},
   "cell_type": "markdown",
   "source": "### Fix missing values",
   "id": "109403cfd1995119"
  },
  {
   "metadata": {
    "ExecuteTime": {
     "end_time": "2024-08-08T01:15:24.836967Z",
     "start_time": "2024-08-08T01:15:24.762060Z"
    }
   },
   "cell_type": "code",
   "source": [
    "X_train = X_train.fillna(0)\n",
    "X_test = X_test.fillna(0)"
   ],
   "id": "415bbef702dfceef",
   "outputs": [],
   "execution_count": 15
  },
  {
   "metadata": {},
   "cell_type": "markdown",
   "source": "# Step 4: Train a Model",
   "id": "b72aa9ee5b0fa123"
  },
  {
   "metadata": {
    "jupyter": {
     "is_executing": true
    },
    "ExecuteTime": {
     "start_time": "2024-08-08T01:15:24.837977Z"
    }
   },
   "cell_type": "code",
   "source": [
    "from sklearn.model_selection import train_test_split\n",
    "from sklearn.linear_model import LogisticRegression\n",
    "from sklearn.metrics import accuracy_score\n",
    "\n",
    "# Split the data into training and validation sets\n",
    "X_train_split, X_val_split, y_train_split, y_val_split = train_test_split(X_train, y_train, test_size=0.2, random_state=42)\n",
    "\n",
    "# Train a logistic regression model\n",
    "model = LogisticRegression(max_iter=1000)\n",
    "model.fit(X_train_split, y_train_split)\n"
   ],
   "id": "ad311c38e1f4e975",
   "outputs": [],
   "execution_count": null
  },
  {
   "metadata": {},
   "cell_type": "markdown",
   "source": "# Step 5: Evaluate the Model",
   "id": "8ee8ce383945ec5c"
  },
  {
   "metadata": {
    "jupyter": {
     "is_executing": true
    }
   },
   "cell_type": "code",
   "source": [
    "# Predict on the training set\n",
    "y_train_pred = model.predict(X_train_split)\n",
    "\n",
    "# Predict on the validation set\n",
    "y_val_pred = model.predict(X_val_split)\n",
    "\n",
    "# Evaluate the model\n",
    "train_accuracy = accuracy_score(y_train_split, y_train_pred)\n",
    "val_accuracy = accuracy_score(y_val_split, y_val_pred)\n",
    "\n",
    "print(f'Training Accuracy: {train_accuracy:.4f}')\n",
    "print(f'Validation Accuracy: {val_accuracy:.4f}')"
   ],
   "id": "f0808587ffc66a29",
   "outputs": [],
   "execution_count": null
  },
  {
   "metadata": {},
   "cell_type": "markdown",
   "source": "Best validation accuracy so far: 0.7867",
   "id": "3c036d0e49f65d3a"
  },
  {
   "metadata": {},
   "cell_type": "markdown",
   "source": "# Step 6: Prepare Submission File",
   "id": "49b0edadbf01ceef"
  },
  {
   "metadata": {
    "jupyter": {
     "is_executing": true
    }
   },
   "cell_type": "code",
   "source": [
    "test_predictions = model.predict(X_test)\n",
    "submission = pd.DataFrame({'PassengerId': test['PassengerId'], 'Transported': test_predictions})\n",
    "submission.to_csv('submission.csv', index=False)"
   ],
   "id": "de289cb5b4b85a99",
   "outputs": [],
   "execution_count": null
  }
 ],
 "metadata": {
  "kernelspec": {
   "display_name": "Python 3",
   "language": "python",
   "name": "python3"
  },
  "language_info": {
   "codemirror_mode": {
    "name": "ipython",
    "version": 2
   },
   "file_extension": ".py",
   "mimetype": "text/x-python",
   "name": "python",
   "nbconvert_exporter": "python",
   "pygments_lexer": "ipython2",
   "version": "2.7.6"
  }
 },
 "nbformat": 4,
 "nbformat_minor": 5
}
